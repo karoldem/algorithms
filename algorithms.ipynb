{
  "nbformat": 4,
  "nbformat_minor": 0,
  "metadata": {
    "colab": {
      "provenance": [],
      "authorship_tag": "ABX9TyO76mrvFMcLhhCbajOGiYub",
      "include_colab_link": true
    },
    "kernelspec": {
      "name": "python3",
      "display_name": "Python 3"
    },
    "language_info": {
      "name": "python"
    }
  },
  "cells": [
    {
      "cell_type": "markdown",
      "metadata": {
        "id": "view-in-github",
        "colab_type": "text"
      },
      "source": [
        "<a href=\"https://colab.research.google.com/github/karoldem/algorithms/blob/main/algorithms.ipynb\" target=\"_parent\"><img src=\"https://colab.research.google.com/assets/colab-badge.svg\" alt=\"Open In Colab\"/></a>"
      ]
    },
    {
      "cell_type": "code",
      "execution_count": null,
      "metadata": {
        "id": "zB4KOnjZOw7-"
      },
      "outputs": [],
      "source": [
        "class treeNode:\n",
        "\n",
        "\n",
        "\n",
        "    def __init__(self,val = None):\n",
        "        self.val = val\n",
        "        self.power = 1\n",
        "        self.root = None\n",
        "        #self.children = []\n",
        "\n",
        "\n",
        "\n",
        "    def __call__(self):\n",
        "        node = self\n",
        "\n",
        "        while node.root is not None:\n",
        "            node = node.root\n",
        "\n",
        "        return node\n",
        "\n",
        "\n",
        "\n",
        "class islands:\n",
        "\n",
        "\n",
        "\n",
        "    def __init__(self,n):\n",
        "        self.connectedComponents = [treeNode(i) for i in range(n)]\n",
        "\n",
        "\n",
        "\n",
        "    def add(self,i,j):\n",
        "        i = self.connectedComponents[i]()\n",
        "        j = self.connectedComponents[j]()\n",
        "\n",
        "        if i is not j:\n",
        "            i.root = j\n",
        "\n",
        "\n",
        "\n",
        "class percolations(islands):\n",
        "\n",
        "\n",
        "    def __init__(self,m,n):\n",
        "        self.connectedComponents = [treeNode(i) for i in range(m*n+2)]\n",
        "        self.m = m\n",
        "        self.n = n\n",
        "        for i in range(m):\n",
        "            self.add(i,-2)\n",
        "            self.add( m*(n-1)+i, -1)\n"
      ]
    },
    {
      "cell_type": "markdown",
      "source": [
        "# Archive"
      ],
      "metadata": {
        "id": "JwvtiXiEUzEp"
      }
    },
    {
      "cell_type": "code",
      "source": [
        "connectedComponents = [treeNode(i) for i in range(8)]\n",
        "connections = [(1,4), (4,5), (2,3), (2,6),(3,6), (3,7)]"
      ],
      "metadata": {
        "id": "tUW41F_8QO3V"
      },
      "execution_count": null,
      "outputs": []
    },
    {
      "cell_type": "code",
      "source": [
        "for i,j in connections:\n",
        "\n",
        "    print(i,j)\n",
        "    i = connectedComponents[i]()\n",
        "    j = connectedComponents[j]()\n",
        "\n",
        "    if i is not j:\n",
        "        i.root = j\n",
        "    #i.children.append(j)"
      ],
      "metadata": {
        "id": "sf_gLXp3RzdS"
      },
      "execution_count": null,
      "outputs": []
    },
    {
      "cell_type": "code",
      "source": [
        "for i in connectedComponents:\n",
        "    print (None if i.root is None else i.root.val)"
      ],
      "metadata": {
        "id": "aBJdzChmuWsO"
      },
      "execution_count": null,
      "outputs": []
    }
  ]
}